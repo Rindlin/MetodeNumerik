{
  "nbformat": 4,
  "nbformat_minor": 0,
  "metadata": {
    "colab": {
      "provenance": [],
      "authorship_tag": "ABX9TyOHyc5P0YDpxcewtR5OR0sp",
      "include_colab_link": true
    },
    "kernelspec": {
      "name": "python3",
      "display_name": "Python 3"
    },
    "language_info": {
      "name": "python"
    }
  },
  "cells": [
    {
      "cell_type": "markdown",
      "metadata": {
        "id": "view-in-github",
        "colab_type": "text"
      },
      "source": [
        "<a href=\"https://colab.research.google.com/github/Rindlin/MetodeNumerik/blob/main/MetNum_Penyelesaian_Dekomposisi_LU_Gauss.ipynb\" target=\"_parent\"><img src=\"https://colab.research.google.com/assets/colab-badge.svg\" alt=\"Open In Colab\"/></a>"
      ]
    },
    {
      "cell_type": "code",
      "source": [
        "import numpy as np\n",
        "def dekomposisi_lu_gauss(A):\n",
        "    n = len(A)\n",
        "    L = np.zeros((n, n))\n",
        "    U = np.zeros((n, n))\n",
        "\n",
        "    for i in range(n):\n",
        "        L[i, i] = 1\n",
        "        for j in range(i, n):\n",
        "            U[i, j] = A[i, j] - sum(L[i, k] * U[k, j] for k in range(i))\n",
        "        for j in range(i + 1, n):\n",
        "            L[j, i] = (A[j, i] - sum(L[j, k] * U[k, i] for k in\n",
        "range(i))) / U[i, i]\n",
        "    return L, U\n",
        "\n",
        "def solve_system(A, b):\n",
        "    L, U = dekomposisi_lu_gauss(A)\n",
        "    y = np.linalg.solve(L, b)\n",
        "    x = np.linalg.solve(U, y)\n",
        "    return x\n",
        "\n",
        "# Example usage\n",
        "A = np.array([[5, 7], [4, 8]])\n",
        "b = np.array([3, 9])\n",
        "\n",
        "solution = solve_system(A, b)\n",
        "print(\"Solution:\", solution)"
      ],
      "metadata": {
        "colab": {
          "base_uri": "https://localhost:8080/"
        },
        "id": "HhbUo5jqAOyo",
        "outputId": "eda90aa2-b0fa-44e1-f47e-04abe15a5a52"
      },
      "execution_count": 9,
      "outputs": [
        {
          "output_type": "stream",
          "name": "stdout",
          "text": [
            "Solution: [-3.25  2.75]\n"
          ]
        }
      ]
    }
  ]
}