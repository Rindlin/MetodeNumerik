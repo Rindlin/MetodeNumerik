{
  "nbformat": 4,
  "nbformat_minor": 0,
  "metadata": {
    "colab": {
      "provenance": [],
      "authorship_tag": "ABX9TyO/W6BWU8UKsEK5YB0UIGqi",
      "include_colab_link": true
    },
    "kernelspec": {
      "name": "python3",
      "display_name": "Python 3"
    },
    "language_info": {
      "name": "python"
    }
  },
  "cells": [
    {
      "cell_type": "markdown",
      "metadata": {
        "id": "view-in-github",
        "colab_type": "text"
      },
      "source": [
        "<a href=\"https://colab.research.google.com/github/Rindlin/MetodeNumerik/blob/main/MetNum_Penyelesaian_Matrix_Invers.ipynb\" target=\"_parent\"><img src=\"https://colab.research.google.com/assets/colab-badge.svg\" alt=\"Open In Colab\"/></a>"
      ]
    },
    {
      "cell_type": "markdown",
      "source": [
        "# Matrix Invers Function"
      ],
      "metadata": {
        "id": "G0mbKlMUyJw_"
      }
    },
    {
      "cell_type": "code",
      "execution_count": 3,
      "metadata": {
        "id": "Ru7o4pi-xHQH"
      },
      "outputs": [],
      "source": [
        "import numpy as np\n",
        "def solve_linear_system(A, B):\n",
        "    try:\n",
        "        A_inv = np.linalg.inv(A)\n",
        "        X = np.dot(A_inv, B)\n",
        "\n",
        "        return X\n",
        "    except np.linalg.LinAlgError:\n",
        "        return None\n",
        "\n",
        "A = np.array([[5, 3], [-2, 4]])\n",
        "B = np.array([[3], [6]])"
      ]
    },
    {
      "cell_type": "markdown",
      "source": [
        "# Solution"
      ],
      "metadata": {
        "id": "JSeLouXhyawG"
      }
    },
    {
      "cell_type": "code",
      "source": [
        "solution = solve_linear_system(A, B)\n",
        "\n",
        "if solution is not None:\n",
        "    x, y = solution.flatten()\n",
        "    print(f\"Solusi SPL: x = {x}, y = {y}\")\n",
        "else:\n",
        "    print(\"Matriks koefisien tidak memiliki balikan.\")\n",
        "\n",
        "# Verifikasi solusi\n",
        "if np.allclose(np.dot(A, solution), B):\n",
        "    print(\"Verifikasi berhasil: A * X = B\")\n",
        "else:\n",
        "    print(\"Verifikasi gagal.\")"
      ],
      "metadata": {
        "colab": {
          "base_uri": "https://localhost:8080/"
        },
        "id": "jMKqkDREydDk",
        "outputId": "6d333512-41ee-48c8-d081-f2152647c35a"
      },
      "execution_count": 4,
      "outputs": [
        {
          "output_type": "stream",
          "name": "stdout",
          "text": [
            "Solusi SPL: x = -0.23076923076923073, y = 1.3846153846153846\n",
            "Verifikasi berhasil: A * X = B\n"
          ]
        }
      ]
    }
  ]
}